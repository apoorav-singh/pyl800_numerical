{
 "cells": [
  {
   "cell_type": "markdown",
   "metadata": {},
   "source": [
    "## Code By: *Apoorav Singh Deo*\n",
    "## En. No: *2021PHZ8046*\n",
    "\n",
    "Please don't distribute. This code is meant for the course requirement of PYL800, Indian Institute of Technology Delhi\n",
    "\n",
    "# Part 1\n",
    "(To run code in pieces. I have also included files seperately. $\\texttt{Part_1_lhs.py}$ and $\\texttt{Part_1_rhs.py}$ for just Part 1 of the code. Usually, full part 1 takes $\\approx$ 5 minutes to run. So be patient)\n",
    "\n",
    "Suppose we have a vector $\\vec{v} = (2xz+3y^2)\\hat{i} + (4yz^2)\\hat{j}$. Check the Stokes theorem:\n",
    "\n",
    "$$\\iint (\\nabla\\times \\vec{v})\\cdot d\\vec{a} = \\oint \\vec{v}\\cdot d\\vec{l}$$\n",
    "\n",
    "using Simpsons method by assuming $h = 10^{−4}$ for the surface between (0, 0, 0) $\\rightarrow$ (0, 1, 1)."
   ]
  },
  {
   "cell_type": "code",
   "execution_count": 17,
   "metadata": {},
   "outputs": [],
   "source": [
    "import numpy as np\n",
    "from matplotlib import pyplot as plt\n",
    "from math import *\n",
    "\n",
    "\n",
    "tol = pow(10, -6) # Tolerance limit for approximating zero is defined\n"
   ]
  },
  {
   "cell_type": "code",
   "execution_count": null,
   "metadata": {},
   "outputs": [],
   "source": []
  },
  {
   "attachments": {
    "Graph.png": {
     "image/png": "[encoded data removed]"
    }
   },
   "cell_type": "markdown",
   "metadata": {},
   "source": [
    "First working out RHS. So integration would be worked out using the scheme in the graph below\n",
    "\n",
    "![Graph.png](attachment:Graph.png)\n",
    "\n",
    "To work this out we will first make a function which will perform the integration and this function would be used step by step to work out whole integration.\n",
    "\n",
    "In our case we are using simpson rule, which says that\n",
    "\n",
    "$$\\int f(x)\\ dx = \\frac{h}{3}\\left(f(x_0) + f(x_n) + 2f(x_{2i}) + 4f(x_{2i+1}))\\right)$$"
   ]
  },
  {
   "cell_type": "code",
   "execution_count": 13,
   "metadata": {},
   "outputs": [
    {
     "name": "stdout",
     "output_type": "stream",
     "text": [
      "Value of the Integral in RHS 1.3337332733293232\n"
     ]
    }
   ],
   "source": [
    "h1 = 1e-4\n",
    "\n",
    "tol = pow(10, -6) # Tolerance limit for approximating zero is defined\n",
    "\n",
    "# Solving for RHS First\n",
    "\n",
    "# Function definition for simpson's (1/3) rule\n",
    "\n",
    "def simp_1_3(b, a, h, func):\n",
    "    \n",
    "    # b: Upper bound of the Integration\n",
    "    # a: Lower bound of the Integration\n",
    "    # h: Step value\n",
    "    # func: Integrand f(x) only\n",
    "    \n",
    "    integr = 0 # To the store the value of the Integration \n",
    "    \n",
    "    n = floor((b-a)/h) # Approximate n to nearest Integer so indexing limit can be defined\n",
    "    \n",
    "    n = abs(n)  # Taking absolute value to avoid error with indexing\n",
    "    \n",
    "    i = 0\n",
    "    \n",
    "    h1 = (b-a)/n\n",
    "    \n",
    "    x = np.empty(n)\n",
    "    \n",
    "    x[0] = a\n",
    "    \n",
    "    while (i < n):\n",
    "        \n",
    "        x[i] = i*h1 + a\n",
    "        \n",
    "        if (i%2 == 0 and i != (n-1) and i != 0):\n",
    "            \n",
    "            integr += (h1/3)*2*func(x[i])\n",
    "            \n",
    "        elif (i%2 != 0 and i != (n-1) and i != 0):\n",
    "            \n",
    "            integr += (h1/3)*4*func(x[i])\n",
    "            \n",
    "        else:\n",
    "            \n",
    "            integr += (h1/3)*func(x[i])\n",
    "         \n",
    "        i += 1\n",
    "    return integr\n",
    "\n",
    "\n",
    "# Case 1: (0,0,0) ----> (0,0,1)\n",
    "\n",
    "# As function becomes zero therefore answer for this integration is 0.\n",
    "\n",
    "c_res_1 = 0\n",
    "\n",
    "# Case 2: (0,0,1) ----> (0,1,1)\n",
    "\n",
    "def func_2(x):\n",
    "    \n",
    "    func = 3*x**2\n",
    "    return func\n",
    "\n",
    "c_res_2 = simp_1_3(1, 0, h1, func_2)\n",
    "\n",
    "# Case 3: (0,1,1) ----> (0,1,0)\n",
    "\n",
    "def func_3(x):\n",
    "    \n",
    "    func = 4*x**2\n",
    "    return func\n",
    "\n",
    "c_res_3 = simp_1_3(0, 1, h1, func_3)\n",
    "\n",
    "\n",
    "# Case 4: (0,1,0) ----> (0,0,0)\n",
    "\n",
    "# Due to symmetry of the problem the function is same as func_2(x) defined earlier\n",
    "\n",
    "c_res_4 = simp_1_3(0, 1, h1, func_2)\n",
    "\n",
    "# It is to be noted that this code can be written using less function but for the \n",
    "# sake of the understanding I have implemented these functions\n",
    "\n",
    "rhs_res = c_res_1 + c_res_2 + c_res_3 + c_res_4\n",
    "\n",
    "print(\"Value of the Integral in RHS {}\".format((abs(rhs_res))))"
   ]
  },
  {
   "cell_type": "markdown",
   "metadata": {},
   "source": [
    " $$\\oint \\vec{v}\\cdot d\\vec{l} = 1.3337332733293232$$\n",
    " \n",
    " Now working out the LHS"
   ]
  },
  {
   "cell_type": "markdown",
   "metadata": {},
   "source": [
    "Now writing a function for double integration${}^+$ (Alexander (https://math.stackexchange.com/users/806961/alexander), Simpson rule for double integral, URL (version: 2021-04-29): https://math.stackexchange.com/q/4104609).\n",
    "\n",
    "$$S_x(y_j) = f(x_0, y_j) + f(x_n,y_j) + 4\\sum_{i = 1}^{(N_x-2)/2} f(x_{2i-1},y_j) + 2\\sum_{i = 1}^{(N_x-2)/2} f(x_{2i},y_j)$$\n",
    "\n",
    "and \n",
    "\n",
    "$$S = \\frac{h_xh_y}{9}[(S_x(y_0) +S_x(y_n) + 4\\sum_{j = 1}^{(N_y-2)/2} S_x(y_{2j-1}) + 2\\sum_{j = 1}^{(N_y-2)/2} S_x(y_{2j})$$\n",
    "\n",
    "where,\n",
    "\n",
    "$$h_x = \\frac{\\text{UpperLimit}_x - \\text{LowerLimit}_x}{N_x}$$\n",
    "\n",
    "and \n",
    "\n",
    "$$h_y = \\frac{\\text{UpperLimit}_y - \\text{LowerLimit}_y}{N_y}$$"
   ]
  },
  {
   "cell_type": "code",
   "execution_count": 14,
   "metadata": {},
   "outputs": [
    {
     "name": "stdout",
     "output_type": "stream",
     "text": [
      "Value of the Integral in LHS 1.3326223733186628\n"
     ]
    }
   ],
   "source": [
    "# Function definition\n",
    "\n",
    "def func_xy(y, x):\n",
    "    \n",
    "    func = 4*y**2\n",
    "    \n",
    "    return func\n",
    "\n",
    "\n",
    "# This function is modified simpson function, in which function can take f(x,y) value. Rest all is same\n",
    "\n",
    "def simp_1_3m(b, a, h1, y, func):\n",
    "#           'm' stands for modified    \n",
    "    integr = 0\n",
    "    \n",
    "    n = floor((b-a)/h1)\n",
    "    \n",
    "    n = abs(n)\n",
    "    \n",
    "    i = 0\n",
    "    \n",
    "    x = np.empty(n)\n",
    "    \n",
    "    x[0] = a\n",
    "    \n",
    "    while (i < n):\n",
    "        \n",
    "        x[i] = i*h1 + a\n",
    "        \n",
    "        if (i%2 == 0 and i != (n-1) and i != 0):\n",
    "            \n",
    "            integr += 2*func(y, x[i])\n",
    "            \n",
    "        elif (i%2 != 0 and i != (n-1) and i != 0):\n",
    "            \n",
    "            integr += 4*func(y, x[i])\n",
    "            \n",
    "        else:\n",
    "            \n",
    "            integr += func(y, x[i])\n",
    "         \n",
    "        i += 1\n",
    "    return integr\n",
    "\n",
    "\n",
    "def d_simp_1_3(bx, ax, by, ay, hx, hy, func):\n",
    "    # --------------------------------------\n",
    "    # ax: Lower bound dx\n",
    "    # bx: Upper bound dx\n",
    "    # by: Upper bound dy\n",
    "    # ay: Lower bound dy\n",
    "    # hx: Step Size x-axis \n",
    "    # hy: Step Size y-axis\n",
    "    # func: Input function of the Integrand\n",
    "    # ---------------------------------------\n",
    "    \n",
    "                 # Will store the integration value\n",
    "    integr_y = 0 #\n",
    "    \n",
    "    \n",
    "    nx = floor((bx-ax)/hx) # Steps in x axis\n",
    "    # Approximate n to nearest Integer so indexing limit can be defined\n",
    "    \n",
    "    nx = abs(nx) # Taking absolute value to avoid error with indexing\n",
    "    \n",
    "    ny = floor((by-ay)/hy) # Steps in y axis\n",
    "    # Approximate n to nearest Integer so indexing limit can be defined\n",
    "    \n",
    "    ny = abs(ny) # Taking absolute value to avoid error with indexing\n",
    "    \n",
    "    i = 0 #(Inner Iteration)\n",
    "    j = 0 #(Outer Iteration)\n",
    "    \n",
    "    h1x = (bx-ax)/nx # | In this way we can also handle the Integrals\n",
    "    h1y = (by-ay)/ny # | that have b<a. As it adjusts the \n",
    "    \n",
    "    x = np.empty(nx) #\n",
    "                     # Initializing the variables  \n",
    "    y = np.empty(ny) #\n",
    "    \n",
    "    x[0] = ax #\n",
    "              # Initializing the variables\n",
    "    y[0] = ay #\n",
    "    \n",
    "    for j in range(ny):\n",
    "        \n",
    "        y[j] = j*h1y + ay\n",
    "        \n",
    "        # Instead of nesting I have used modified simpson function I used earlier\n",
    "        \n",
    "        if (j%2 == 0 and j != (ny-1) and j != 0):\n",
    "                \n",
    "            integr_y += (h1x*h1y/9)*2*simp_1_3m(bx, ax, h1x, y[j], func)\n",
    "        \n",
    "        elif (j%2 != 0 and j != (ny-1) and j != 0):\n",
    "            \n",
    "            integr_y += (h1x*h1y/9)*4*simp_1_3m(bx, ax, h1x, y[j], func)\n",
    "            \n",
    "        else:\n",
    "            \n",
    "            integr_y += (h1x*h1y/9)*simp_1_3m(bx, ax, h1x, y[j], func)\n",
    "\n",
    "    return integr_y\n",
    "\n",
    "lhs_res = d_simp_1_3(1, 0, 1, 0, 0.0001, 0.0001, func_xy) # Calling the function \n",
    "\n",
    "print(\"Value of the Integral in LHS {}\".format((lhs_res))) # Printing the value"
   ]
  },
  {
   "cell_type": "markdown",
   "metadata": {},
   "source": [
    "$$\\iint (\\nabla\\times \\vec{v})\\cdot d\\vec{a} = 1.3326223733186628$$\n",
    "\n",
    "Hence, LHS and RHS are nearly equal (error is due to numerical integration). Therefore, Stoke's theorem is proved."
   ]
  },
  {
   "cell_type": "markdown",
   "metadata": {},
   "source": [
    "# Part 2\n",
    "\n",
    "(To run code in pieces. I have also included files seperately. $\\texttt{Part_2.py}$ for just Part 2 of the code)\n",
    "\n",
    "Suppose a body of mass $m$ is traveling vertically upward starting at the surface of the earth. If all resistance except gravity is neglected, the escape velocity of $v$ is given by \n",
    "$$v^2 = 2gR\\int^{\\infty}_{1} z^{-2}\\ dz$$\n",
    "and $R=3960\\ miles$ is the radius of the earth, and $g = 0.00609\\ mi/s^2$ is the force of the gravity at the surface. Approximate the escape velocity by assuming $h = 10^{-3}$?"
   ]
  },
  {
   "cell_type": "code",
   "execution_count": 15,
   "metadata": {
    "scrolled": true
   },
   "outputs": [
    {
     "data": {
      "text/plain": [
       "<matplotlib.legend.Legend at 0x1f0e3dcc520>"
      ]
     },
     "execution_count": 15,
     "metadata": {},
     "output_type": "execute_result"
    },
    {
     "data": {
      "image/png": "[encoded data removed]",
      "text/plain": [
       "<Figure size 432x288 with 1 Axes>"
      ]
     },
     "metadata": {
      "needs_background": "light"
     },
     "output_type": "display_data"
    }
   ],
   "source": [
    "arry_lim = 1000000 # Safe Array Size\n",
    "h = 1e-3 #[Step Size]\n",
    "\n",
    "# In this block of the code, infinity would be materialized\n",
    "\n",
    "g = 0.00609 #[mi/s^2]\n",
    "R = 3960 #[miles]\n",
    "\n",
    "z = np.zeros(arry_lim)\n",
    "pl_f_z = np.zeros(arry_lim)\n",
    "trap = 0\n",
    "\n",
    "# Function definition \n",
    "\n",
    "def func_v_2(z):\n",
    "    f_z = 2*g*R*(1/pow(z,2))\n",
    "    return f_z\n",
    "\n",
    "# Initializing the function\n",
    "\n",
    "z[0] = 1\n",
    "i = 0\n",
    "\n",
    "# Loop to plot the function \n",
    "\n",
    "while (pl_f_z[i] < tol):\n",
    "    \n",
    "    pl_f_z[i] = func_v_2(z[i])\n",
    "    \n",
    "    if (z[i] >= 695):\n",
    "        break\n",
    "    \n",
    "    z[i+1] = z[i] + h\n",
    "    # z_i+1 is placed here to avoid mismatch of array size\n",
    "    \n",
    "    i += 1\n",
    "\n",
    "plt.plot(z, pl_f_z, label='Integrand')    \n",
    "plt.xlabel(r\"$z\\ \\rightarrow$\")\n",
    "plt.ylabel(r\"$f(z)\\ \\rightarrow$\")\n",
    "plt.grid(1)\n",
    "plt.title(r\"$z \\approx 694.5\\ gives\\ us\\ tolerance\\ \\approx 9 \\times 10^{-5}$\")\n",
    "plt.legend()"
   ]
  },
  {
   "cell_type": "code",
   "execution_count": null,
   "metadata": {},
   "outputs": [],
   "source": []
  },
  {
   "cell_type": "markdown",
   "metadata": {},
   "source": [
    "To estimate infinity, I used the fuunction to approximate zero. As function is assymptotically tending to zero. Therefore, at \n",
    "a certain value we can say that value is sufficiently close to zero ($\\lim\\limits_{z \\rightarrow 0}\\ f(z)$). Hence, it can be safely said that the particular value is a good approximation to $\\infty$.\n",
    "\n",
    "For instance, in our case; at $694.5$ miles we get  function value $0.9...\\times 10^{-6}$. Which is a good approximation keeping in mind the computation resource and time we have.\n",
    "\n",
    "Now implementing the integration using **trapezoidal rule**.\n",
    "\n",
    "$$v^2 = 2gR\\int^{\\infty}_{1} z^{-2}\\ dz$$\n",
    "\n",
    "**Trapezoidal rule** says that Integration can be numerically computed using the formula,\n",
    "\n",
    "$$\\frac{f(b) - f(a)}{2}\\times (b-a)$$\n",
    "\n",
    "In composite form (as done in this code) $(b-a)$ is nothing but step size, $b$ is $x_{i+1}$ and $a$ is $x_{i}$. \n",
    "\n",
    "It is to be noted that integration is done for $v^2$. Therefore, we need to take square root of the last value obtained to get the value of escape velocity.\n",
    "\n",
    "**Ans.** $\\sqrt{v}$"
   ]
  },
  {
   "cell_type": "code",
   "execution_count": 16,
   "metadata": {},
   "outputs": [
    {
     "name": "stdout",
     "output_type": "stream",
     "text": [
      "Escape velocity  = 6.939986197855743 miles/s\n"
     ]
    }
   ],
   "source": [
    "# Implementing Trapezoidal Method\n",
    "\n",
    "i=1\n",
    "trap = 0\n",
    "while True:\n",
    "    trap += (pl_f_z[i-1] + pl_f_z[i])*h/2\n",
    "    \n",
    "    if (z[i] >= 695):\n",
    "        break\n",
    "    \n",
    "    i += 1    \n",
    "    \n",
    "# Printing the integration value. \n",
    "print(\"Escape velocity  = {} miles/s\".format(sqrt(trap)))"
   ]
  },
  {
   "cell_type": "code",
   "execution_count": null,
   "metadata": {},
   "outputs": [],
   "source": []
  },
  {
   "cell_type": "markdown",
   "metadata": {},
   "source": [
    "As we can see answer is displayed here, \n",
    "\n",
    "$$\\sqrt{2gR\\int^{\\infty}_{1} z^{-2}\\ dz} = 6.939986\\ \\left(\\frac{mi}{s}\\right)$$"
   ]
  }
 ],
 "metadata": {
  "interpreter": {
   "hash": "d0f1a46e1b8bb49f6fe66dfa14ba01e1c4ea6e7377c07a6040c9a42d856a631d"
  },
  "kernelspec": {
   "display_name": "Python 3 (ipykernel)",
   "language": "python",
   "name": "python3"
  },
  "language_info": {
   "codemirror_mode": {
    "name": "ipython",
    "version": 3
   },
   "file_extension": ".py",
   "mimetype": "text/x-python",
   "name": "python",
   "nbconvert_exporter": "python",
   "pygments_lexer": "ipython3",
   "version": "3.8.8"
  }
 },
 "nbformat": 4,
 "nbformat_minor": 4
}
